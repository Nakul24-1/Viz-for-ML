{
  "cells": [
    {
      "cell_type": "markdown",
      "metadata": {
        "id": "view-in-github",
        "colab_type": "text"
      },
      "source": [
        "<a href=\"https://colab.research.google.com/github/Nakul24-1/Viz-for-ML/blob/main/D3_in_Jupyter/Assignment_2.ipynb\" target=\"_parent\"><img src=\"https://colab.research.google.com/assets/colab-badge.svg\" alt=\"Open In Colab\"/></a>"
      ]
    },
    {
      "cell_type": "markdown",
      "metadata": {
        "id": "vNa22nM9IGJM"
      },
      "source": [
        "# Homework 1: CS-GY 9223\n",
        "## Exploring 20 NewsGroups"
      ]
    },
    {
      "cell_type": "code",
      "source": [
        ""
      ],
      "metadata": {
        "id": "iukad0eD4yD1"
      },
      "execution_count": null,
      "outputs": []
    },
    {
      "cell_type": "markdown",
      "metadata": {
        "id": "k_LbfcvbIGJQ"
      },
      "source": [
        "In this homework, you will write a D3 Visualization in Javascript and integrate it in Jupyter Notebook.\n",
        "\n",
        "The goal of this exercise is to explore the **20 News Groups dataset**, a popular machine learning dataset that contains news articles grouped in 20 topics. Your visualization should receive the dataset and display a bar chart with the top most frequent words in the dataset. The user should be able to filter the data based on topic (for example, by clicking in checkboxes, selecting from a drop down menu, etc.). The user should also be able to export the selected documents from the selected topic back to Python (using a button).\n",
        "\n",
        "In summary, your visualization should have the following capabilities:\n",
        "- Display a bar chart with the top K words in the document collection\n",
        "- Enable the user to filter the documents based on topic, and display a bar chart with the frequency of the top K words from that topic.\n",
        "- Export the documents from the selected news topic back to python (as a list of strings).\n",
        "- The visualization has to be integrated with python. The API should have two functions:\n",
        "  - `plot_top_words(documents, K) # plot top K words using D3 and Javascript`\n",
        "  - `get_exported_documents() # get the exported documents back to python`\n",
        "  \n",
        "Example of the resulting visualization:\n",
        "<img src=\"HW_Vis.png\" width = \"500px\" height=\"100px\"/>"
      ]
    },
    {
      "cell_type": "markdown",
      "metadata": {
        "id": "7hwC0eTYIGJR"
      },
      "source": [
        "### Accessing the data"
      ]
    },
    {
      "cell_type": "markdown",
      "metadata": {
        "id": "qcsp7dlgIGJR"
      },
      "source": [
        "The data should be accessed from sklearn. In this section we show an example of code for accessing the documents and the document classes."
      ]
    },
    {
      "cell_type": "code",
      "execution_count": null,
      "metadata": {
        "id": "CYZwZoSPIGJR"
      },
      "outputs": [],
      "source": [
        "# Fetching the data\n",
        "from sklearn.datasets import fetch_20newsgroups\n",
        "import numpy as np\n",
        "newsgroups = fetch_20newsgroups(subset='test',remove=('headers', 'footers', 'quotes'))\n",
        "\n",
        "# getting the topic ids\n",
        "topic_idx = np.array(newsgroups.target, dtype=int)\n",
        "\n",
        "# getting the unique topic names\n",
        "topic_names = np.array(newsgroups.target_names)\n",
        "\n",
        "# getting the list of documents\n",
        "documents = list(newsgroups.data)\n",
        "\n",
        "# getting the list of topics (in the same order as documents)\n",
        "topics = list(topic_names[topic_idx])"
      ]
    },
    {
      "cell_type": "markdown",
      "metadata": {
        "id": "u04PTJrqIGJT"
      },
      "source": [
        "These are the 20 topics in the dataset:"
      ]
    },
    {
      "cell_type": "code",
      "execution_count": null,
      "metadata": {
        "colab": {
          "base_uri": "https://localhost:8080/"
        },
        "id": "aPMObmtCIGJT",
        "outputId": "e7a7fb77-850d-4675-af9f-a812130602dc"
      },
      "outputs": [
        {
          "output_type": "execute_result",
          "data": {
            "text/plain": [
              "array(['alt.atheism', 'comp.graphics', 'comp.os.ms-windows.misc',\n",
              "       'comp.sys.ibm.pc.hardware', 'comp.sys.mac.hardware',\n",
              "       'comp.windows.x', 'misc.forsale', 'rec.autos', 'rec.motorcycles',\n",
              "       'rec.sport.baseball', 'rec.sport.hockey', 'sci.crypt',\n",
              "       'sci.electronics', 'sci.med', 'sci.space',\n",
              "       'soc.religion.christian', 'talk.politics.guns',\n",
              "       'talk.politics.mideast', 'talk.politics.misc',\n",
              "       'talk.religion.misc'], dtype='<U24')"
            ]
          },
          "metadata": {},
          "execution_count": 3
        }
      ],
      "source": [
        "topic_names"
      ]
    },
    {
      "cell_type": "markdown",
      "metadata": {
        "id": "nLFROtvFIGJU"
      },
      "source": [
        "The documents and document topics are assigned to the variables *documents* and *topics*. We print some document examples below."
      ]
    },
    {
      "cell_type": "code",
      "execution_count": null,
      "metadata": {
        "colab": {
          "base_uri": "https://localhost:8080/"
        },
        "id": "8ekdYLOGIGJU",
        "outputId": "752cc1a2-cdaa-4445-a8c6-7df7251b22e8"
      },
      "outputs": [
        {
          "output_type": "stream",
          "name": "stdout",
          "text": [
            "Topic: rec.autos\n",
            "------------------------------------------------------------\n",
            "Document:\n",
            "I am a little confused on all of the models of the 88-89 bonnevilles.\n",
            "I have heard of the LE SE LSE SSE SSEI. Could someone tell me the\n",
            "differences are far as features or performance. I am also curious to\n",
            "know what the book value is for prefereably the 89 model. And how much\n",
            "less than book value can you usually get them for. In other words how\n",
            "much are they in demand this time of year. I have heard that the mid-spring\n",
            "early summer is the best time to buy.\n",
            "============================================================\n",
            "\n",
            "Topic: comp.windows.x\n",
            "------------------------------------------------------------\n",
            "Document:\n",
            "I'm not familiar at all with the format of these \"X-Face:\" thingies, but\n",
            "after seeing them in some folks' headers, I've *got* to *see* them (and\n",
            "maybe make one of my own)!\n",
            "\n",
            "I've got \"dpg-view\" on my Linux box (which displays \"uncompressed X-Faces\")\n",
            "and I've managed to compile [un]compface too... but now that I'm *looking*\n",
            "for them, I can't seem to find any X-Face:'s in anyones news headers!  :-(\n",
            "\n",
            "Could you, would you, please send me your \"X-Face:\" header?\n",
            "\n",
            "I *know* I'll probably get a little swamped, but I can handle it.\n",
            "\n",
            "\t...I hope.\n",
            "============================================================\n",
            "\n"
          ]
        }
      ],
      "source": [
        "for i in range(2):\n",
        "    print(\"Topic: {}\".format(topics[i]))\n",
        "    print(\"-\"*60)\n",
        "    print(\"Document:\")\n",
        "    print(documents[i])\n",
        "    print(\"=\"*60)\n",
        "    print(\"\")"
      ]
    },
    {
      "cell_type": "code",
      "source": [
        "from collections import Counter"
      ],
      "metadata": {
        "id": "EvSI8lQZJxVM"
      },
      "execution_count": null,
      "outputs": []
    },
    {
      "cell_type": "code",
      "source": [
        "import glob\n",
        "import random\n",
        "import json\n",
        "import nltk\n",
        "from nltk.corpus import stopwords\n",
        "import string\n",
        "nltk.download('stopwords')"
      ],
      "metadata": {
        "id": "u5zdpT2b0tno",
        "colab": {
          "base_uri": "https://localhost:8080/"
        },
        "outputId": "f92abd11-aec9-4bcd-a37f-e13013fa3c64"
      },
      "execution_count": null,
      "outputs": [
        {
          "output_type": "stream",
          "name": "stdout",
          "text": [
            "[nltk_data] Downloading package stopwords to /root/nltk_data...\n",
            "[nltk_data]   Unzipping corpora/stopwords.zip.\n"
          ]
        },
        {
          "output_type": "execute_result",
          "data": {
            "text/plain": [
              "True"
            ]
          },
          "metadata": {},
          "execution_count": 6
        }
      ]
    },
    {
      "cell_type": "code",
      "source": [
        "stop = set(stopwords.words('english'))\n",
        "all_stops = stop | set(string.punctuation)\n",
        "all_stops.add('--')\n"
      ],
      "metadata": {
        "id": "m5f7gY06-goW"
      },
      "execution_count": null,
      "outputs": []
    },
    {
      "cell_type": "code",
      "source": [
        ""
      ],
      "metadata": {
        "id": "8M6qi29VsS7_"
      },
      "execution_count": null,
      "outputs": []
    },
    {
      "cell_type": "code",
      "source": [
        "wordlist = []\n",
        "selected_topics= topic_names  # vary this as per the filter\n",
        "\n",
        "for x in range (len(documents)):\n",
        "  if topics[x] in selected_topics:\n",
        "    for i in documents[x].split():\n",
        "      if i.lower() not in all_stops:\n",
        "        wordlist.append(i)\n",
        "dic = Counter(wordlist)"
      ],
      "metadata": {
        "id": "NqSN60sgVlTy"
      },
      "execution_count": null,
      "outputs": []
    },
    {
      "cell_type": "code",
      "source": [
        "for y in dic.values():\n",
        "  for x in range (1,6):\n",
        "    print (y)\n",
        "  if x == 5 :\n",
        "    break;"
      ],
      "metadata": {
        "id": "Hv1kE_JxXkiH",
        "colab": {
          "base_uri": "https://localhost:8080/"
        },
        "outputId": "c54da9eb-a910-4bb5-e120-effc66dfb729"
      },
      "execution_count": null,
      "outputs": [
        {
          "output_type": "stream",
          "name": "stdout",
          "text": [
            "526\n",
            "526\n",
            "526\n",
            "526\n",
            "526\n"
          ]
        }
      ]
    },
    {
      "cell_type": "code",
      "source": [
        "dic.most_common(7)"
      ],
      "metadata": {
        "colab": {
          "base_uri": "https://localhost:8080/"
        },
        "id": "KkP_6yEqzj5Q",
        "outputId": "a9d53f53-ec03-4b58-f2ac-e1bc699fdbe9"
      },
      "execution_count": null,
      "outputs": [
        {
          "output_type": "execute_result",
          "data": {
            "text/plain": [
              "[('would', 3870),\n",
              " ('one', 2930),\n",
              " ('like', 2247),\n",
              " ('0', 2150),\n",
              " ('get', 2144),\n",
              " ('know', 1906),\n",
              " ('people', 1880)]"
            ]
          },
          "metadata": {},
          "execution_count": 10
        }
      ]
    },
    {
      "cell_type": "code",
      "source": [
        "array = []\n",
        "word = []\n",
        "dict1 = []\n",
        "n = 8\n",
        "for i in range(n):\n",
        "  dict1.append((dic.most_common(n)[i][1],(dic.most_common(n)[i][0])))\n",
        "  array.append(dic.most_common(n)[i][1])\n",
        "  word.append((dic.most_common(n)[i][0]))\n",
        "\n",
        "data_dict = {\n",
        "    \"array\": array,\n",
        "    \"word\": word\n",
        "    \n",
        "}\n"
      ],
      "metadata": {
        "id": "f_ptoDIzBg5U"
      },
      "execution_count": null,
      "outputs": []
    },
    {
      "cell_type": "code",
      "source": [
        "from IPython.display import display, HTML\n",
        "import json\n",
        "data_dict"
      ],
      "metadata": {
        "colab": {
          "base_uri": "https://localhost:8080/"
        },
        "id": "BnEJPr7LKaU0",
        "outputId": "e7c18263-af9e-4042-8cf0-e16c2b44436f"
      },
      "execution_count": null,
      "outputs": [
        {
          "output_type": "execute_result",
          "data": {
            "text/plain": [
              "{'array': [3870, 2930, 2247, 2150, 2144, 1906, 1880, 1789],\n",
              " 'word': ['would', 'one', 'like', '0', 'get', 'know', 'people', 'think']}"
            ]
          },
          "metadata": {},
          "execution_count": 12
        }
      ]
    },
    {
      "cell_type": "markdown",
      "source": [
        "CODE V1"
      ],
      "metadata": {
        "id": "ys-K4ElpU-DZ"
      }
    },
    {
      "cell_type": "code",
      "source": [
        "def target_func(comm, msg):\n",
        "   \n",
        "  # comm is the kernel Comm instance\n",
        "\n",
        "  # Register handler for later messages\n",
        "  #@comm.on_msg\n",
        "  #def _recv(msg):\n",
        "  # Use msg['content']['data'] for the data in the message\n",
        "  counter1 = 0;\n",
        "  val1 = msg['content']['data'][0]\n",
        "  \n",
        "  val2 = msg['content']['data'][1]\n",
        "  #print(val2)\n",
        "  selected_topics= [val1]  # vary this as per the filter\n",
        "  wordlist = []\n",
        "\n",
        "  for x in range (len(documents)):\n",
        "    if topics[x] in selected_topics:\n",
        "      if counter1 < 6:\n",
        "        print(documents[x])\n",
        "        counter1= counter1 + 1\n",
        "      for i in documents[x].split():\n",
        "        if i.lower() not in all_stops:\n",
        "          wordlist.append(i)\n",
        "    \n",
        "  dic = Counter(wordlist)\n",
        "  array = []\n",
        "  word = []\n",
        "  dict1 = []\n",
        "  n = int(val2)\n",
        "  print(val1)\n",
        "  print(n)\n",
        "  for i in range(n):\n",
        "    dict1.append((dic.most_common(n)[i][1],(dic.most_common(n)[i][0])))\n",
        "    array.append(dic.most_common(n)[i][1])\n",
        "    word.append((dic.most_common(n)[i][0]))\n",
        "\n",
        "  data_dict = {\n",
        "      \"array\": array,\n",
        "      \"word\": word\n",
        "      \n",
        "}\n",
        "\n",
        "\n",
        "  comm.send(data_dict,None)\n",
        "\n",
        "get_ipython().kernel.comm_manager.register_target('my_comm_target', target_func)\n",
        "\n",
        "#get_ipython().kernel.comm_manager.register_target('comm_target', target_func)\n"
      ],
      "metadata": {
        "id": "k0HQ8VDU9AC5"
      },
      "execution_count": null,
      "outputs": []
    },
    {
      "cell_type": "code",
      "source": [
        "from IPython.display import HTML\n",
        "from IPython.display import Javascript\n",
        "\n",
        "display(HTML(\n",
        "    \"\"\"\n",
        "\n",
        "<html>\n",
        "  <head>\n",
        "    <script src=\"https://d3js.org/d3.v6.min.js\"></script>\n",
        "</head>\n",
        "\n",
        "  <body>\n",
        "    <div id=\"div_receive_data\">\n",
        "      <p>\n",
        "  <label># words</label>\n",
        "  <input type=\"number\" min=\"1\" max=\"30\" step=\"1\" value=\"8\" id=\"nBin\">\n",
        "</p>\n",
        "      </div>\n",
        "    <div id = \"dropdown\"/>\n",
        "<script>\n",
        "\n",
        " {{\n",
        "\n",
        "function getArray(object) {{\n",
        "    return Object.keys(object).reduce(function (r, k) {{\n",
        "        object[k].forEach(function (a, i) {{\n",
        "            r[i] = r[i] || {{}};\n",
        "            r[i][k] = a;\n",
        "        }});\n",
        "        return r;\n",
        "    }}, []);\n",
        "}}\n",
        "\n",
        "function getObject(array) {{\n",
        "    return array.reduce(function (r, o, i) {{\n",
        "        Object.keys(o).forEach(function (k) {{\n",
        "            r[k] = r[k] || [];\n",
        "            r[k][i] = o[k];\n",
        "        }});\n",
        "        return r;\n",
        "    }}, {{}});\n",
        "}}\n",
        "\n",
        "function bar_chart(data)\n",
        "{{\n",
        "\n",
        "  const data2 = getArray(data)\n",
        "    \n",
        "  var result = Object.entries(data);\n",
        "  \n",
        "  var word = data.word\n",
        "  \n",
        "  const margin = ({{top: 20, bottom: 45, left: 75, right: 30}})  \n",
        "  const totalWidth = 1000\n",
        "  const totalHeight = 500\n",
        "  const visWidth = totalWidth - margin.left - margin.right\n",
        "  const visHeight = totalHeight - margin.top - margin.bottom\n",
        "  var y = d3.scaleBand()\n",
        "    .domain(word)\n",
        "    .range([0, visHeight])\n",
        "    .padding(0.2)\n",
        "  var x = d3.scaleLinear()\n",
        "    .domain([0, d3.max(data.array)])\n",
        "    .range([0, visWidth])\n",
        "\n",
        "  const yAxis = d3.axisLeft(y);\n",
        "  const xAxis = d3.axisBottom(x);\n",
        "\n",
        "  //const svg = d3.create('svg')\n",
        "    const svg = d3.select(\"#div_receive_data\").append(\"svg\")\n",
        "      .attr('width', totalWidth)\n",
        "      // we could also put visHeight + margin.top + margin.bottom instead of totalHeight\n",
        "      .attr('height', totalHeight);\n",
        "  \n",
        "\n",
        "  const g = svg.append(\"g\")\n",
        "      .attr('transform', `translate(${{margin.left}}, ${{margin.top}})`);\n",
        "\n",
        "  \n",
        "  g.selectAll('rect')\n",
        "    .data(data2)\n",
        "    .join('rect')\n",
        "      // set attributes for each bar\n",
        "      .attr('x', 0) // each bar starts at the same x position\n",
        "      .attr('y', d => y(d.word)) // pass the name to the y-scale to get y position\n",
        "      .attr('width', d => x(d.array)) // pass the score to the x-scale to get width of the bar\n",
        "      .attr('height', y.bandwidth()) // get the width of each band in the scale\n",
        "      .attr('fill', 'steelblue');\n",
        "\n",
        "\n",
        "\n",
        "  g.append('g')\n",
        "      .call(yAxis)\n",
        "        \n",
        "  // add a group for the x-axis\n",
        "  g.append('g')\n",
        "      // we have to move this group down to the bottom of the vis\n",
        "      .attr('transform', `translate(0, ${{visHeight}})`)\n",
        "      .call(xAxis)\n",
        "    // add a label for the x-axis\n",
        "    .append('text')\n",
        "      .attr('fill', 'black')\n",
        "      .attr('font-family', 'sans-serif')\n",
        "      .attr('x', visWidth / 2)\n",
        "      .attr('y', 40)\n",
        "      .text(\"Count\");\n",
        "\n",
        "}}\n",
        "bar_chart({data})\n",
        "\n",
        "     var allGroup = ['alt.atheism', 'comp.graphics', 'comp.os.ms-windows.misc',\n",
        "       'comp.sys.ibm.pc.hardware', 'comp.sys.mac.hardware',\n",
        "       'comp.windows.x', 'misc.forsale', 'rec.autos', 'rec.motorcycles',\n",
        "       'rec.sport.baseball', 'rec.sport.hockey', 'sci.crypt',\n",
        "       'sci.electronics', 'sci.med', 'sci.space',\n",
        "       'soc.religion.christian', 'talk.politics.guns',\n",
        "       'talk.politics.mideast', 'talk.politics.misc',\n",
        "       'talk.religion.misc']\n",
        "\n",
        "    // Initialize the button\n",
        "\n",
        "    var wordc = 10\n",
        "    var dropdownButton = d3.select(\"#dropdown\")\n",
        "      .append('select').attr(\"value\", function (d) {{ return d; }})\n",
        "      \n",
        "       var num_words = d3.select(\"#nBin\").on(\"input\", function() {{\n",
        "  wordc = this.value;\n",
        "  }});\n",
        "\n",
        "      dropdownButton // Add a button\n",
        "  .selectAll('myOptions')\n",
        " \t.data(allGroup)\n",
        "  .enter()\n",
        "\t.append('option')\n",
        "  .text(function (d) {{ return d; }}) // text showed in the menu\n",
        "  .attr(\"value\", function (d) {{ return d; }}) // corresponding value returned by the button\n",
        "\n",
        "\n",
        "  dropdownButton.on(\"change\", function(d) {{\n",
        "\n",
        "    // recover the option that has been chosen\n",
        "    var selectedOption = d3.select(this).property(\"value\");\n",
        "    console.log(selectedOption);\n",
        "    console.log(wordc);\n",
        "  \n",
        "    (async () => {{\n",
        "    const channel = await google.colab.kernel.comms.open('my_comm_target', [selectedOption,wordc]);\n",
        "    let success = false;\n",
        "\n",
        "    for await (const message of channel.messages) {{\n",
        "\n",
        "      d3.select(\"#div_receive_data\").selectAll(\"svg\").remove()\n",
        "      let data = message.data;\n",
        "      console.log(data)\n",
        "      bar_chart(data) \n",
        "\n",
        "\n",
        "    \n",
        "    }} ;\n",
        "\n",
        "    }})()\n",
        "    \n",
        "  }})\n",
        " \n",
        "  \n",
        "}}\n",
        "\n",
        "</script>\n",
        "</body>\n",
        "</html>\n",
        "\"\"\".format(data = json.dumps(data_dict))))\n"
      ],
      "metadata": {
        "colab": {
          "base_uri": "https://localhost:8080/",
          "height": 1000
        },
        "id": "sTUFGKVsmNAe",
        "outputId": "0ffb2c48-7e5e-4658-c1af-e03ac6d0f92c"
      },
      "execution_count": null,
      "outputs": [
        {
          "output_type": "display_data",
          "data": {
            "text/html": [
              "\n",
              "\n",
              "<html>\n",
              "  <head>\n",
              "    <script src=\"https://d3js.org/d3.v6.min.js\"></script>\n",
              "</head>\n",
              "\n",
              "  <body>\n",
              "    <div id=\"div_receive_data\">\n",
              "      <p>\n",
              "  <label># words</label>\n",
              "  <input type=\"number\" min=\"1\" max=\"30\" step=\"1\" value=\"8\" id=\"nBin\">\n",
              "</p>\n",
              "      </div>\n",
              "    <div id = \"dropdown\"/>\n",
              "<script>\n",
              "\n",
              " {\n",
              "\n",
              "function getArray(object) {\n",
              "    return Object.keys(object).reduce(function (r, k) {\n",
              "        object[k].forEach(function (a, i) {\n",
              "            r[i] = r[i] || {};\n",
              "            r[i][k] = a;\n",
              "        });\n",
              "        return r;\n",
              "    }, []);\n",
              "}\n",
              "\n",
              "function getObject(array) {\n",
              "    return array.reduce(function (r, o, i) {\n",
              "        Object.keys(o).forEach(function (k) {\n",
              "            r[k] = r[k] || [];\n",
              "            r[k][i] = o[k];\n",
              "        });\n",
              "        return r;\n",
              "    }, {});\n",
              "}\n",
              "\n",
              "function bar_chart(data)\n",
              "{\n",
              "\n",
              "  const data2 = getArray(data)\n",
              "    \n",
              "  var result = Object.entries(data);\n",
              "  \n",
              "  var word = data.word\n",
              "  \n",
              "  const margin = ({top: 20, bottom: 45, left: 75, right: 30})  \n",
              "  const totalWidth = 1000\n",
              "  const totalHeight = 500\n",
              "  const visWidth = totalWidth - margin.left - margin.right\n",
              "  const visHeight = totalHeight - margin.top - margin.bottom\n",
              "  var y = d3.scaleBand()\n",
              "    .domain(word)\n",
              "    .range([0, visHeight])\n",
              "    .padding(0.2)\n",
              "  var x = d3.scaleLinear()\n",
              "    .domain([0, d3.max(data.array)])\n",
              "    .range([0, visWidth])\n",
              "\n",
              "  const yAxis = d3.axisLeft(y);\n",
              "  const xAxis = d3.axisBottom(x);\n",
              "\n",
              "  //const svg = d3.create('svg')\n",
              "    const svg = d3.select(\"#div_receive_data\").append(\"svg\")\n",
              "      .attr('width', totalWidth)\n",
              "      // we could also put visHeight + margin.top + margin.bottom instead of totalHeight\n",
              "      .attr('height', totalHeight);\n",
              "  \n",
              "\n",
              "  const g = svg.append(\"g\")\n",
              "      .attr('transform', `translate(${margin.left}, ${margin.top})`);\n",
              "\n",
              "  \n",
              "  g.selectAll('rect')\n",
              "    .data(data2)\n",
              "    .join('rect')\n",
              "      // set attributes for each bar\n",
              "      .attr('x', 0) // each bar starts at the same x position\n",
              "      .attr('y', d => y(d.word)) // pass the name to the y-scale to get y position\n",
              "      .attr('width', d => x(d.array)) // pass the score to the x-scale to get width of the bar\n",
              "      .attr('height', y.bandwidth()) // get the width of each band in the scale\n",
              "      .attr('fill', 'steelblue');\n",
              "\n",
              "\n",
              "\n",
              "  g.append('g')\n",
              "      .call(yAxis)\n",
              "        \n",
              "  // add a group for the x-axis\n",
              "  g.append('g')\n",
              "      // we have to move this group down to the bottom of the vis\n",
              "      .attr('transform', `translate(0, ${visHeight})`)\n",
              "      .call(xAxis)\n",
              "    // add a label for the x-axis\n",
              "    .append('text')\n",
              "      .attr('fill', 'black')\n",
              "      .attr('font-family', 'sans-serif')\n",
              "      .attr('x', visWidth / 2)\n",
              "      .attr('y', 40)\n",
              "      .text(\"Count\");\n",
              "\n",
              "}\n",
              "bar_chart({\"array\": [3870, 2930, 2247, 2150, 2144, 1906, 1880, 1789], \"word\": [\"would\", \"one\", \"like\", \"0\", \"get\", \"know\", \"people\", \"think\"]})\n",
              "\n",
              "     var allGroup = ['alt.atheism', 'comp.graphics', 'comp.os.ms-windows.misc',\n",
              "       'comp.sys.ibm.pc.hardware', 'comp.sys.mac.hardware',\n",
              "       'comp.windows.x', 'misc.forsale', 'rec.autos', 'rec.motorcycles',\n",
              "       'rec.sport.baseball', 'rec.sport.hockey', 'sci.crypt',\n",
              "       'sci.electronics', 'sci.med', 'sci.space',\n",
              "       'soc.religion.christian', 'talk.politics.guns',\n",
              "       'talk.politics.mideast', 'talk.politics.misc',\n",
              "       'talk.religion.misc']\n",
              "\n",
              "    // Initialize the button\n",
              "\n",
              "    var wordc = 10\n",
              "    var dropdownButton = d3.select(\"#dropdown\")\n",
              "      .append('select').attr(\"value\", function (d) { return d; })\n",
              "      \n",
              "       var num_words = d3.select(\"#nBin\").on(\"input\", function() {\n",
              "  wordc = this.value;\n",
              "  });\n",
              "\n",
              "      dropdownButton // Add a button\n",
              "  .selectAll('myOptions')\n",
              " \t.data(allGroup)\n",
              "  .enter()\n",
              "\t.append('option')\n",
              "  .text(function (d) { return d; }) // text showed in the menu\n",
              "  .attr(\"value\", function (d) { return d; }) // corresponding value returned by the button\n",
              "\n",
              "\n",
              "  dropdownButton.on(\"change\", function(d) {\n",
              "\n",
              "    // recover the option that has been chosen\n",
              "    var selectedOption = d3.select(this).property(\"value\");\n",
              "    console.log(selectedOption);\n",
              "    console.log(wordc);\n",
              "  \n",
              "    (async () => {\n",
              "    const channel = await google.colab.kernel.comms.open('my_comm_target', [selectedOption,wordc]);\n",
              "    let success = false;\n",
              "\n",
              "    for await (const message of channel.messages) {\n",
              "\n",
              "      d3.select(\"#div_receive_data\").selectAll(\"svg\").remove()\n",
              "      let data = message.data;\n",
              "      console.log(data)\n",
              "      bar_chart(data) \n",
              "\n",
              "\n",
              "    \n",
              "    } ;\n",
              "\n",
              "    })()\n",
              "    \n",
              "  })\n",
              " \n",
              "  \n",
              "}\n",
              "\n",
              "</script>\n",
              "</body>\n",
              "</html>\n"
            ],
            "text/plain": [
              "<IPython.core.display.HTML object>"
            ]
          },
          "metadata": {}
        },
        {
          "output_type": "stream",
          "name": "stdout",
          "text": [
            "\n",
            "It is said that CELP vocoders can run on the highest speed 486s with\n",
            "some room to spare -- they turn 64kbit (8 bit samples, 8k samples/sec)\n",
            "into 4800 baud. However, DSP is hairy, and I have yet to see actual\n",
            "proof of this in the form of an implementation. I have heard fairly\n",
            "reliable rumors to the effect that a famous internetworking guru has a\n",
            "CELP implementation that runs on Sparcstation 1+'s with some room to\n",
            "spare, but I have not succeeded thus far in getting my hands on a copy\n",
            "-- the guru in question has a reputation for not releasing code\n",
            "without having beaten on it for a very very long time first. \n",
            "\n",
            "DSP experts are heavily encouraged to try their own hand at this\n",
            "problem.\n",
            "\n",
            "--\n",
            "Perry Metzger\t\tpmetzger@shearson.com\n",
            "Tom Clancy omitted these key steps to try to prevent groups of people from\n",
            "building a nuclear bomb.  However, he asserts that you can find these key\n",
            "steps in any university library.  The main point of _Five Minutes To Midnight_\n",
            "is that it is impossible to prevent the proliferation of nuclear weapons,\n",
            "since it has become easy to acquire the knowledge to build one, and fissible\n",
            "materials are nearly impossible to control.  Read this article, or better\n",
            "yet, run to your library yourself and dig up some stuff on constructing a\n",
            "nuclear weapon.\n",
            "\n",
            "Doug Holland\n",
            "\n",
            ": I have seen various references to 'triple des' recently. Could anyone\n",
            ": tell me what it is ? From context, I would guess that it means\n",
            ": encrypting each block 3 times, with a different key each time, but\n",
            ": I'd like to be sure.\n",
            "\n",
            ": Replies by email preferred - our news is unreliable.\n",
            "\n",
            "Could people replying to the above question post their responses here\n",
            "as well, as I'm sure others (including myself) would like to hear them.\n",
            "\n",
            "Thanks.\n",
            "\n",
            "Jon\n",
            "brings up the issue of how the escrow agent will be paid, and the fact\n",
            "that the government had financial leverage if they don't cooperate.\n",
            "It's an important issue, especially if one of the escrow agents\n",
            "decides they'd rather stop offering the service. \n",
            "I assume that if the escrow agent isn't the government,\n",
            "then the contract for providing escrow service would include some\n",
            "termination clause like returning the keys.\n",
            "\n",
            "\n",
            "But who's the user paying the fees here, and what's the service?  \n",
            "If the user is the government, then the funding's not separate from the government.\n",
            "\n",
            "If the user is the buyer, what's the service?  \n",
            "Keeping the key for me?  No thanks - I don't need, and won't buy their service!\n",
            "Not telling everybody my key?  Sounds like blackmail!\n",
            "\n",
            "If the user is the manufacturer, does the user have a choice about buying?\n",
            "The alternative is to just generate the key and not escrow it, which is fine -\n",
            "I'd certainly pay more for this kind of key than an escrowed key!\n",
            "\n",
            "Face it, the escrow provider is providing a service the users don't want.\n",
            "The only people who want it are the government, not the users.\n",
            "What you're really talking about is either the government paying for\n",
            "the service, up front or per-year, either from general taxes,\n",
            "or from a special direct tax on wiretap chips, or on an indirect tax\n",
            "(forcing the manufacturer to pay the fee to the escrow agent.)\n",
            "\n",
            "I hope the escrow people have no way of finding out your name from\n",
            "your serial number, especially if the escrow is a government agency.\n",
            "\n",
            "Here in New Jersey, we have lots of people willing to provide that\n",
            "sort of services for user fees.  There are people willing to keep your\n",
            "store from burning down for a small monthly fee, though sometimes people\n",
            "refuse to pay and discover that the service really was effective.\n",
            "If you go to a baseball game at Yankee Stadium, there are people who\n",
            "will watch your car in the parking lot for a small user fee.\n",
            "Something could scratch the paint, after all.\n",
            "And what a shame if your Clipper key got out!\n",
            " >but whether I would.\n",
            "\n",
            ": PS The first posting I saw I thought was a joke in *VERY* bad taste. My appologies\n",
            ": to the person who broke the news.\n",
            "\n",
            "For what it's worth...\n",
            "\n",
            "\n",
            ": Note:  This file will also be available via anonymous file\n",
            ": transfer from csrc.ncsl.nist.gov in directory /pub/nistnews and\n",
            ": via the NIST Computer Security BBS at 301-948-5717.\n",
            ":      ---------------------------------------------------\n",
            ": \n",
            ":                          THE WHITE HOUSE\n",
            ": \n",
            "\n",
            "I haven't been able to open an ftp session with that machine.\n",
            "\n",
            "Operating under the assumption that the address was wrong, I tried using\n",
            "nslookup and nicname/whois...\n",
            "\n",
            "[nnsc.nsf.net]\n",
            "Host or domain name            Internet address              \n",
            "[...]\n",
            " ncsl                           server = mail-gw.ncsl.nist.gov         \n",
            " mail-gw.ncsl                   129.6.48.199\n",
            " ncsl                           server = dove.nist.gov                 \n",
            " ncsl                           server = ecf.ncsl.nist.gov             \n",
            " ecf.ncsl                       129.6.48.2\n",
            " ncsl                           server = enh.nist.gov                  \n",
            " ncsl                           server = SUNMGR.NCSL.NIST.GOV          \n",
            " SUNMGR.NCSL                    129.6.48.12\n",
            "[...]\n",
            "\n",
            "That's all I could find about the ncsl domain...oh, and I tried an MX lookup\n",
            "on the machine in question, which failed.  Nicname/whois domain lookups at\n",
            "both registries failed, too. \n",
            "\n",
            "So I thought, \"hey, I'm just not using the tools right\" and tried calling\n",
            "the BBS number -- no answer.\n",
            "\n",
            "I'm probably doing something wrong...or, perhaps, the machine has been put\n",
            "behind a firewall.  But it does look like csrc.ncsl.nist.gov has become an\n",
            "un-machine.  If someone would try ftp'ing to it, or knows what's up, I'd\n",
            "really appreciate the info. \n",
            "sci.crypt\n",
            "10\n"
          ]
        }
      ]
    },
    {
      "cell_type": "code",
      "execution_count": null,
      "metadata": {
        "colab": {
          "base_uri": "https://localhost:8080/"
        },
        "outputId": "18777ece-3143-4f7b-f1dc-0540a84e269a",
        "id": "0d_kkEAQn8HK"
      },
      "outputs": [
        {
          "output_type": "execute_result",
          "data": {
            "text/plain": [
              "array(['alt.atheism', 'comp.graphics', 'comp.os.ms-windows.misc',\n",
              "       'comp.sys.ibm.pc.hardware', 'comp.sys.mac.hardware',\n",
              "       'comp.windows.x', 'misc.forsale', 'rec.autos', 'rec.motorcycles',\n",
              "       'rec.sport.baseball', 'rec.sport.hockey', 'sci.crypt',\n",
              "       'sci.electronics', 'sci.med', 'sci.space',\n",
              "       'soc.religion.christian', 'talk.politics.guns',\n",
              "       'talk.politics.mideast', 'talk.politics.misc',\n",
              "       'talk.religion.misc'], dtype='<U24')"
            ]
          },
          "metadata": {},
          "execution_count": 14
        }
      ],
      "source": [
        "topic_names"
      ]
    },
    {
      "cell_type": "code",
      "source": [
        "get_ipython().kernel.comm_manager.comms"
      ],
      "metadata": {
        "colab": {
          "base_uri": "https://localhost:8080/"
        },
        "id": "6npU7w04m_eG",
        "outputId": "65a2846b-8fc0-4df9-9969-9e6714cf1e91"
      },
      "execution_count": null,
      "outputs": [
        {
          "output_type": "execute_result",
          "data": {
            "text/plain": [
              "{}"
            ]
          },
          "metadata": {},
          "execution_count": 15
        }
      ]
    },
    {
      "cell_type": "code",
      "source": [
        "def setup_comm_colab(api_call_id, callback):\n",
        "    \"\"\"Function that connects javascript call with a Colab Notebook\"\"\"\n",
        "    from google.colab import output\n",
        "    from IPython import display\n",
        "    def _recv(msg):\n",
        "        return display.JSON(callback(msg)) # Use display.JSON to transfer an object\n",
        "    output.register_callback(api_call_id, _recv)\n"
      ],
      "metadata": {
        "id": "DarU9C6knIjZ"
      },
      "execution_count": null,
      "outputs": []
    }
  ],
  "metadata": {
    "kernelspec": {
      "display_name": "Python 3",
      "language": "python",
      "name": "python3"
    },
    "language_info": {
      "codemirror_mode": {
        "name": "ipython",
        "version": 3
      },
      "file_extension": ".py",
      "mimetype": "text/x-python",
      "name": "python",
      "nbconvert_exporter": "python",
      "pygments_lexer": "ipython3",
      "version": "3.6.9"
    },
    "colab": {
      "name": "Homework 2 - CSGY9223.ipynb",
      "provenance": [],
      "collapsed_sections": [],
      "include_colab_link": true
    }
  },
  "nbformat": 4,
  "nbformat_minor": 0
}